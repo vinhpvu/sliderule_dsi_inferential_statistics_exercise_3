{
 "cells": [
  {
   "cell_type": "markdown",
   "metadata": {},
   "source": [
    "# Hospital Readmissions Data Analysis and Recommendations for Reduction\n",
    "\n",
    "### Background\n",
    "In October 2012, the US government's Center for Medicare and Medicaid Services (CMS) began reducing Medicare payments for Inpatient Prospective Payment System hospitals with excess readmissions. Excess readmissions are measured by a ratio, by dividing a hospital’s number of “predicted” 30-day readmissions for heart attack, heart failure, and pneumonia by the number that would be “expected,” based on an average hospital with similar patients. A ratio greater than 1 indicates excess readmissions.\n",
    "\n",
    "### Exercise Directions\n",
    "\n",
    "In this exercise, you will:\n",
    "+ critique a preliminary analysis of readmissions data and recommendations (provided below) for reducing the readmissions rate\n",
    "+ construct a statistically sound analysis and make recommendations of your own \n",
    "\n",
    "More instructions provided below. Include your work **in this notebook and submit to your Github account**. \n",
    "\n",
    "### Resources\n",
    "+ Data source: https://data.medicare.gov/Hospital-Compare/Hospital-Readmission-Reduction/9n3s-kdb3\n",
    "+ More information: http://www.cms.gov/Medicare/medicare-fee-for-service-payment/acuteinpatientPPS/readmissions-reduction-program.html\n",
    "+ Markdown syntax: http://nestacms.com/docs/creating-content/markdown-cheat-sheet\n",
    "****"
   ]
  },
  {
   "cell_type": "code",
   "execution_count": null,
   "metadata": {
    "collapsed": false
   },
   "outputs": [],
   "source": []
  },
  {
   "cell_type": "code",
   "execution_count": 62,
   "metadata": {
    "collapsed": false
   },
   "outputs": [],
   "source": [
    "%matplotlib inline\n",
    "\n",
    "import pandas as pd\n",
    "import numpy as np\n",
    "import matplotlib.pyplot as plt\n",
    "import bokeh.plotting as bkp\n",
    "from mpl_toolkits.axes_grid1 import make_axes_locatable"
   ]
  },
  {
   "cell_type": "code",
   "execution_count": 63,
   "metadata": {
    "collapsed": false
   },
   "outputs": [
    {
     "data": {
      "text/html": [
       "<div>\n",
       "<table border=\"1\" class=\"dataframe\">\n",
       "  <thead>\n",
       "    <tr style=\"text-align: right;\">\n",
       "      <th></th>\n",
       "      <th>Hospital Name</th>\n",
       "      <th>Provider Number</th>\n",
       "      <th>State</th>\n",
       "      <th>Measure Name</th>\n",
       "      <th>Number of Discharges</th>\n",
       "      <th>Footnote</th>\n",
       "      <th>Excess Readmission Ratio</th>\n",
       "      <th>Predicted Readmission Rate</th>\n",
       "      <th>Expected Readmission Rate</th>\n",
       "      <th>Number of Readmissions</th>\n",
       "      <th>Start Date</th>\n",
       "      <th>End Date</th>\n",
       "    </tr>\n",
       "  </thead>\n",
       "  <tbody>\n",
       "    <tr>\n",
       "      <th>0</th>\n",
       "      <td>FROEDTERT MEMORIAL LUTHERAN HOSPITAL</td>\n",
       "      <td>520177</td>\n",
       "      <td>WI</td>\n",
       "      <td>READM-30-HIP-KNEE-HRRP</td>\n",
       "      <td>242</td>\n",
       "      <td>NaN</td>\n",
       "      <td>1.9095</td>\n",
       "      <td>10.8</td>\n",
       "      <td>5.6</td>\n",
       "      <td>38</td>\n",
       "      <td>07/01/2010</td>\n",
       "      <td>06/30/2013</td>\n",
       "    </tr>\n",
       "    <tr>\n",
       "      <th>1</th>\n",
       "      <td>PROVIDENCE HOSPITAL</td>\n",
       "      <td>90006</td>\n",
       "      <td>DC</td>\n",
       "      <td>READM-30-HIP-KNEE-HRRP</td>\n",
       "      <td>247</td>\n",
       "      <td>NaN</td>\n",
       "      <td>1.7521</td>\n",
       "      <td>9.2</td>\n",
       "      <td>5.3</td>\n",
       "      <td>33</td>\n",
       "      <td>07/01/2010</td>\n",
       "      <td>06/30/2013</td>\n",
       "    </tr>\n",
       "    <tr>\n",
       "      <th>2</th>\n",
       "      <td>BEAUFORT COUNTY MEMORIAL HOSPITAL</td>\n",
       "      <td>420067</td>\n",
       "      <td>SC</td>\n",
       "      <td>READM-30-HIP-KNEE-HRRP</td>\n",
       "      <td>586</td>\n",
       "      <td>NaN</td>\n",
       "      <td>1.5836</td>\n",
       "      <td>7.6</td>\n",
       "      <td>4.8</td>\n",
       "      <td>53</td>\n",
       "      <td>07/01/2010</td>\n",
       "      <td>06/30/2013</td>\n",
       "    </tr>\n",
       "    <tr>\n",
       "      <th>3</th>\n",
       "      <td>ADVOCATE CHRIST HOSPITAL &amp; MEDICAL CENTER</td>\n",
       "      <td>140208</td>\n",
       "      <td>IL</td>\n",
       "      <td>READM-30-HIP-KNEE-HRRP</td>\n",
       "      <td>965</td>\n",
       "      <td>NaN</td>\n",
       "      <td>1.5760</td>\n",
       "      <td>9.0</td>\n",
       "      <td>5.7</td>\n",
       "      <td>95</td>\n",
       "      <td>07/01/2010</td>\n",
       "      <td>06/30/2013</td>\n",
       "    </tr>\n",
       "    <tr>\n",
       "      <th>4</th>\n",
       "      <td>BRAZOSPORT REGIONAL HEALTH SYSTEM</td>\n",
       "      <td>450072</td>\n",
       "      <td>TX</td>\n",
       "      <td>READM-30-HIP-KNEE-HRRP</td>\n",
       "      <td>149</td>\n",
       "      <td>NaN</td>\n",
       "      <td>1.5308</td>\n",
       "      <td>8.2</td>\n",
       "      <td>5.4</td>\n",
       "      <td>20</td>\n",
       "      <td>07/01/2010</td>\n",
       "      <td>06/30/2013</td>\n",
       "    </tr>\n",
       "  </tbody>\n",
       "</table>\n",
       "</div>"
      ],
      "text/plain": [
       "                               Hospital Name  Provider Number State  \\\n",
       "0       FROEDTERT MEMORIAL LUTHERAN HOSPITAL           520177    WI   \n",
       "1                        PROVIDENCE HOSPITAL            90006    DC   \n",
       "2          BEAUFORT COUNTY MEMORIAL HOSPITAL           420067    SC   \n",
       "3  ADVOCATE CHRIST HOSPITAL & MEDICAL CENTER           140208    IL   \n",
       "4          BRAZOSPORT REGIONAL HEALTH SYSTEM           450072    TX   \n",
       "\n",
       "             Measure Name Number of Discharges  Footnote  \\\n",
       "0  READM-30-HIP-KNEE-HRRP                  242       NaN   \n",
       "1  READM-30-HIP-KNEE-HRRP                  247       NaN   \n",
       "2  READM-30-HIP-KNEE-HRRP                  586       NaN   \n",
       "3  READM-30-HIP-KNEE-HRRP                  965       NaN   \n",
       "4  READM-30-HIP-KNEE-HRRP                  149       NaN   \n",
       "\n",
       "   Excess Readmission Ratio  Predicted Readmission Rate  \\\n",
       "0                    1.9095                        10.8   \n",
       "1                    1.7521                         9.2   \n",
       "2                    1.5836                         7.6   \n",
       "3                    1.5760                         9.0   \n",
       "4                    1.5308                         8.2   \n",
       "\n",
       "   Expected Readmission Rate  Number of Readmissions  Start Date    End Date  \n",
       "0                        5.6                      38  07/01/2010  06/30/2013  \n",
       "1                        5.3                      33  07/01/2010  06/30/2013  \n",
       "2                        4.8                      53  07/01/2010  06/30/2013  \n",
       "3                        5.7                      95  07/01/2010  06/30/2013  \n",
       "4                        5.4                      20  07/01/2010  06/30/2013  "
      ]
     },
     "execution_count": 63,
     "metadata": {},
     "output_type": "execute_result"
    }
   ],
   "source": [
    "# read in readmissions data provided\n",
    "hospital_read_df = pd.read_csv('data/cms_hospital_readmissions.csv')\n",
    "hospital_read_df.head()"
   ]
  },
  {
   "cell_type": "markdown",
   "metadata": {},
   "source": [
    "****\n",
    "## Preliminary Analysis"
   ]
  },
  {
   "cell_type": "code",
   "execution_count": 64,
   "metadata": {
    "collapsed": false
   },
   "outputs": [
    {
     "name": "stdout",
     "output_type": "stream",
     "text": [
      "                                    Hospital Name  Provider Number State  \\\n",
      "16857                 THREE RIVERS MEDICAL CENTER           180128    KY   \n",
      "14582        SELLS INDIAN HEALTH SERVICE HOSPITAL            30074    AZ   \n",
      "15606           PHS INDIAN HOSPITAL AT PINE RIDGE           430081    SD   \n",
      "15615          FLORIDA STATE HOSPITAL UNIT 31 MED           100298    FL   \n",
      "14551                      GREENE COUNTY HOSPITAL            10051    AL   \n",
      "15625               FAIRVIEW DEVELOPMENTAL CENTER            50548    CA   \n",
      "15642                  WAGONER COMMUNITY HOSPITAL           370166    OK   \n",
      "15648           ST LUKE'S HOSPITAL AT THE VINTAGE           670075    TX   \n",
      "15652               SOUTH TEXAS SURGICAL HOSPITAL           670061    TX   \n",
      "15396              GEORGE L MEE MEMORIAL HOSPITAL            50189    CA   \n",
      "14515                  JOHN H STROGER JR HOSPITAL           140124    IL   \n",
      "15682                              ONECORE HEALTH           370220    OK   \n",
      "14436                   BROADLAWNS MEDICAL CENTER           160101    IA   \n",
      "15697             ST VINCENT FISHERS HOSPITAL INC           150181    IN   \n",
      "14428                         ST BERNARD HOSPITAL           140103    IL   \n",
      "15703            HEREFORD REGIONAL MEDICAL CENTER           450155    TX   \n",
      "15765                  SOUTHERN SURGICAL HOSPITAL           190270    LA   \n",
      "14418             ROCKCASTLE COUNTY HOSPITAL, INC           180115    KY   \n",
      "14393                   PHYSICIANS MEDICAL CENTER           190241    LA   \n",
      "15679             MOUNTAIN VIEW REGIONAL HOSPITAL           530033    WY   \n",
      "14825                  SAN CARLOS INDIAN HOSPITAL            30077    AZ   \n",
      "14618                  SOUTHERN SURGICAL HOSPITAL           190270    LA   \n",
      "15288                            LORETTO HOSPITAL           140083    IL   \n",
      "14877   NOVANT HEALTH PRESBYTERIAN MEDICAL CENTER           340053    NC   \n",
      "14896                         EPIC MEDICAL CENTER           370169    OK   \n",
      "14949            PORTERVILLE DEVELOPMENTAL CENTER            50546    CA   \n",
      "14799                      HARLEM HOSPITAL CENTER           330240    NY   \n",
      "14989                FOREST HEALTH MEDICAL CENTER           230144    MI   \n",
      "14764           MONTCLAIR HOSPITAL MEDICAL CENTER            50758    CA   \n",
      "15069         CANCER TREATMENT CENTERS OF AMERICA           390312    PA   \n",
      "...                                           ...              ...   ...   \n",
      "7147                    MORRISTOWN MEDICAL CENTER           310015    NJ   \n",
      "897                               VALLEY HOSPITAL           310012    NJ   \n",
      "13326                      SWEDISH MEDICAL CENTER           500027    WA   \n",
      "7872         ST FRANCIS HOSPITAL & MEDICAL CENTER            70002    CT   \n",
      "9444                            EVANSTON HOSPITAL           140010    IL   \n",
      "13723       PROVIDENCE SAINT JOHN'S HEALTH CENTER            50290    CA   \n",
      "1605                     COMMUNITY MEDICAL CENTER           310041    NJ   \n",
      "12910                   BAPTIST HEALTH LOUISVILLE           180130    KY   \n",
      "2758                        LEE MEMORIAL HOSPITAL           100012    FL   \n",
      "7934          CAROLINAS MEDICAL  CENTER-PINEVILLE           340098    NC   \n",
      "1352               SOUTHCOAST HOSPITAL GROUP, INC           220074    MA   \n",
      "3042                 BEAUMONT HOSPITAL, ROYAL OAK           230130    MI   \n",
      "1448          NEW HANOVER REGIONAL MEDICAL CENTER           340141    NC   \n",
      "2846        CHRISTIANA CARE HEALTH SERVICES, INC.            80001    DE   \n",
      "8249                           METHODIST HOSPITAL           450388    TX   \n",
      "3202       METHODIST HEALTHCARE MEMPHIS HOSPITALS           440049    TN   \n",
      "13730                   HOAG ORTHOPEDIC INSTITUTE            50769    CA   \n",
      "2440                             FLORIDA HOSPITAL           100007    FL   \n",
      "11545  MCBRIDE CLINIC ORTHOPEDIC HOSPITAL,  L L C           370222    OK   \n",
      "1805               NEW YORK-PRESBYTERIAN HOSPITAL           330101    NY   \n",
      "8818        CHRISTIANA CARE HEALTH SERVICES, INC.            80001    DE   \n",
      "572                SOUTHCOAST HOSPITAL GROUP, INC           220074    MA   \n",
      "136                  BEAUMONT HOSPITAL, ROYAL OAK           230130    MI   \n",
      "1698                             FLORIDA HOSPITAL           100007    FL   \n",
      "1242                             FLORIDA HOSPITAL           100007    FL   \n",
      "8126                    NAPLES COMMUNITY HOSPITAL           100018    FL   \n",
      "6643                     COMMUNITY MEDICAL CENTER           310041    NJ   \n",
      "1892                             FLORIDA HOSPITAL           100007    FL   \n",
      "13615                NEW ENGLAND BAPTIST HOSPITAL           220088    MA   \n",
      "13666                HOSPITAL FOR SPECIAL SURGERY           330270    NY   \n",
      "\n",
      "                 Measure Name  Number of Discharges  Footnote  \\\n",
      "16857  READM-30-HIP-KNEE-HRRP                     0         7   \n",
      "14582      READM-30-COPD-HRRP                     0         7   \n",
      "15606       READM-30-AMI-HRRP                     0         7   \n",
      "15615      READM-30-COPD-HRRP                     0         7   \n",
      "14551       READM-30-AMI-HRRP                     0         7   \n",
      "15625        READM-30-HF-HRRP                     0         7   \n",
      "15642       READM-30-AMI-HRRP                     0         7   \n",
      "15648  READM-30-HIP-KNEE-HRRP                     0         7   \n",
      "15652      READM-30-COPD-HRRP                     0         7   \n",
      "15396       READM-30-AMI-HRRP                     0         7   \n",
      "14515  READM-30-HIP-KNEE-HRRP                     0         7   \n",
      "15682      READM-30-COPD-HRRP                     0         7   \n",
      "14436       READM-30-AMI-HRRP                     0         7   \n",
      "15697        READM-30-HF-HRRP                     0         7   \n",
      "14428  READM-30-HIP-KNEE-HRRP                     0         7   \n",
      "15703       READM-30-AMI-HRRP                     0         7   \n",
      "15765      READM-30-COPD-HRRP                     0         7   \n",
      "14418       READM-30-AMI-HRRP                     0         7   \n",
      "14393       READM-30-AMI-HRRP                     0         7   \n",
      "15679       READM-30-AMI-HRRP                     0         7   \n",
      "14825        READM-30-PN-HRRP                     0         7   \n",
      "14618        READM-30-PN-HRRP                     0         7   \n",
      "15288  READM-30-HIP-KNEE-HRRP                     0         7   \n",
      "14877  READM-30-HIP-KNEE-HRRP                     0         7   \n",
      "14896       READM-30-AMI-HRRP                     0         7   \n",
      "14949      READM-30-COPD-HRRP                     0         7   \n",
      "14799  READM-30-HIP-KNEE-HRRP                     0         7   \n",
      "14989        READM-30-PN-HRRP                     0         7   \n",
      "14764  READM-30-HIP-KNEE-HRRP                     0         7   \n",
      "15069       READM-30-AMI-HRRP                     0         7   \n",
      "...                       ...                   ...       ...   \n",
      "7147   READM-30-HIP-KNEE-HRRP                  2042       NaN   \n",
      "897          READM-30-HF-HRRP                  2060       NaN   \n",
      "13326  READM-30-HIP-KNEE-HRRP                  2089       NaN   \n",
      "7872   READM-30-HIP-KNEE-HRRP                  2106       NaN   \n",
      "9444         READM-30-HF-HRRP                  2112       NaN   \n",
      "13723  READM-30-HIP-KNEE-HRRP                  2189       NaN   \n",
      "1605         READM-30-HF-HRRP                  2190       NaN   \n",
      "12910  READM-30-HIP-KNEE-HRRP                  2196       NaN   \n",
      "2758   READM-30-HIP-KNEE-HRRP                  2198       NaN   \n",
      "7934   READM-30-HIP-KNEE-HRRP                  2209       NaN   \n",
      "1352         READM-30-HF-HRRP                  2278       NaN   \n",
      "3042         READM-30-HF-HRRP                  2314       NaN   \n",
      "1448   READM-30-HIP-KNEE-HRRP                  2318       NaN   \n",
      "2846   READM-30-HIP-KNEE-HRRP                  2341       NaN   \n",
      "8249         READM-30-HF-HRRP                  2353       NaN   \n",
      "3202         READM-30-HF-HRRP                  2388       NaN   \n",
      "13730  READM-30-HIP-KNEE-HRRP                  2393       NaN   \n",
      "2440         READM-30-PN-HRRP                  2430       NaN   \n",
      "11545  READM-30-HIP-KNEE-HRRP                  2469       NaN   \n",
      "1805         READM-30-HF-HRRP                  2476       NaN   \n",
      "8818         READM-30-HF-HRRP                  2509       NaN   \n",
      "572        READM-30-COPD-HRRP                  2565       NaN   \n",
      "136    READM-30-HIP-KNEE-HRRP                  2581       NaN   \n",
      "1698   READM-30-HIP-KNEE-HRRP                  2596       NaN   \n",
      "1242       READM-30-COPD-HRRP                  2705       NaN   \n",
      "8126   READM-30-HIP-KNEE-HRRP                  2716       NaN   \n",
      "6643       READM-30-COPD-HRRP                  2740       NaN   \n",
      "1892         READM-30-HF-HRRP                  3570       NaN   \n",
      "13615  READM-30-HIP-KNEE-HRRP                  3980       NaN   \n",
      "13666  READM-30-HIP-KNEE-HRRP                  6793       NaN   \n",
      "\n",
      "       Excess Readmission Ratio  Predicted Readmission Rate  \\\n",
      "16857                       NaN                         NaN   \n",
      "14582                       NaN                         NaN   \n",
      "15606                       NaN                         NaN   \n",
      "15615                       NaN                         NaN   \n",
      "14551                       NaN                         NaN   \n",
      "15625                       NaN                         NaN   \n",
      "15642                       NaN                         NaN   \n",
      "15648                       NaN                         NaN   \n",
      "15652                       NaN                         NaN   \n",
      "15396                       NaN                         NaN   \n",
      "14515                       NaN                         NaN   \n",
      "15682                       NaN                         NaN   \n",
      "14436                       NaN                         NaN   \n",
      "15697                       NaN                         NaN   \n",
      "14428                       NaN                         NaN   \n",
      "15703                       NaN                         NaN   \n",
      "15765                       NaN                         NaN   \n",
      "14418                       NaN                         NaN   \n",
      "14393                       NaN                         NaN   \n",
      "15679                       NaN                         NaN   \n",
      "14825                       NaN                         NaN   \n",
      "14618                       NaN                         NaN   \n",
      "15288                       NaN                         NaN   \n",
      "14877                       NaN                         NaN   \n",
      "14896                       NaN                         NaN   \n",
      "14949                       NaN                         NaN   \n",
      "14799                       NaN                         NaN   \n",
      "14989                       NaN                         NaN   \n",
      "14764                       NaN                         NaN   \n",
      "15069                       NaN                         NaN   \n",
      "...                         ...                         ...   \n",
      "7147                     0.9935                         5.1   \n",
      "897                      1.1358                        25.5   \n",
      "13326                    0.8384                         3.7   \n",
      "7872                     0.9839                         5.0   \n",
      "9444                     0.9627                        21.2   \n",
      "13723                    0.6350                         3.2   \n",
      "1605                     1.0991                        26.6   \n",
      "12910                    0.8747                         4.3   \n",
      "2758                     1.0663                         5.5   \n",
      "7934                     0.9831                         4.4   \n",
      "1352                     1.1099                        24.9   \n",
      "3042                     1.0605                        25.6   \n",
      "1448                     1.1055                         5.5   \n",
      "2846                     1.0647                         5.5   \n",
      "8249                     0.9788                        22.0   \n",
      "3202                     1.0571                        23.5   \n",
      "13730                    0.5495                         2.7   \n",
      "2440                     1.0738                        18.6   \n",
      "11545                    0.9248                         4.5   \n",
      "1805                     1.0925                        24.8   \n",
      "8818                     0.9712                        21.8   \n",
      "572                      1.1637                        23.7   \n",
      "136                      1.2577                         7.5   \n",
      "1698                     1.0962                         5.6   \n",
      "1242                     1.1148                        22.0   \n",
      "8126                     0.9804                         5.2   \n",
      "6643                     1.0003                        22.7   \n",
      "1892                     1.0896                        24.5   \n",
      "13615                    0.7682                         3.7   \n",
      "13666                    0.7379                         3.9   \n",
      "\n",
      "       Expected Readmission Rate  Number of Readmissions  Start Date  \\\n",
      "16857                        NaN                     NaN  07/01/2010   \n",
      "14582                        NaN                     NaN  07/01/2010   \n",
      "15606                        NaN                     NaN  07/01/2010   \n",
      "15615                        NaN                     NaN  07/01/2010   \n",
      "14551                        NaN                     NaN  07/01/2010   \n",
      "15625                        NaN                     NaN  07/01/2010   \n",
      "15642                        NaN                     NaN  07/01/2010   \n",
      "15648                        NaN                     NaN  07/01/2010   \n",
      "15652                        NaN                     NaN  07/01/2010   \n",
      "15396                        NaN                     NaN  07/01/2010   \n",
      "14515                        NaN                     NaN  07/01/2010   \n",
      "15682                        NaN                     NaN  07/01/2010   \n",
      "14436                        NaN                     NaN  07/01/2010   \n",
      "15697                        NaN                     NaN  07/01/2010   \n",
      "14428                        NaN                     NaN  07/01/2010   \n",
      "15703                        NaN                     NaN  07/01/2010   \n",
      "15765                        NaN                     NaN  07/01/2010   \n",
      "14418                        NaN                     NaN  07/01/2010   \n",
      "14393                        NaN                     NaN  07/01/2010   \n",
      "15679                        NaN                     NaN  07/01/2010   \n",
      "14825                        NaN                     NaN  07/01/2010   \n",
      "14618                        NaN                     NaN  07/01/2010   \n",
      "15288                        NaN                     NaN  07/01/2010   \n",
      "14877                        NaN                     NaN  07/01/2010   \n",
      "14896                        NaN                     NaN  07/01/2010   \n",
      "14949                        NaN                     NaN  07/01/2010   \n",
      "14799                        NaN                     NaN  07/01/2010   \n",
      "14989                        NaN                     NaN  07/01/2010   \n",
      "14764                        NaN                     NaN  07/01/2010   \n",
      "15069                        NaN                     NaN  07/01/2010   \n",
      "...                          ...                     ...         ...   \n",
      "7147                         5.1                     104  07/01/2010   \n",
      "897                         22.5                     533  07/01/2010   \n",
      "13326                        4.5                      75  07/01/2010   \n",
      "7872                         5.0                     104  07/01/2010   \n",
      "9444                        22.0                     446  07/01/2010   \n",
      "13723                        5.1                      63  07/01/2010   \n",
      "1605                        24.2                     588  07/01/2010   \n",
      "12910                        4.9                      92  07/01/2010   \n",
      "2758                         5.2                     122  07/01/2010   \n",
      "7934                         4.5                      97  07/01/2010   \n",
      "1352                        22.5                     574  07/01/2010   \n",
      "3042                        24.1                     596  07/01/2010   \n",
      "1448                         5.0                     129  07/01/2010   \n",
      "2846                         5.1                     129  07/01/2010   \n",
      "8249                        22.5                     516  07/01/2010   \n",
      "3202                        22.2                     564  07/01/2010   \n",
      "13730                        4.9                      54  07/01/2010   \n",
      "2440                        17.3                     456  07/01/2010   \n",
      "11545                        4.9                     110  07/01/2010   \n",
      "1805                        22.7                     619  07/01/2010   \n",
      "8818                        22.5                     546  07/01/2010   \n",
      "572                         20.4                     619  07/01/2010   \n",
      "136                          5.9                     197  07/01/2010   \n",
      "1698                         5.1                     147  07/01/2010   \n",
      "1242                        19.7                     603  07/01/2010   \n",
      "8126                         5.3                     141  07/01/2010   \n",
      "6643                        22.7                     623  07/01/2010   \n",
      "1892                        22.5                     879  07/01/2010   \n",
      "13615                        4.8                     142  07/01/2010   \n",
      "13666                        5.3                     258  07/01/2010   \n",
      "\n",
      "         End Date  \n",
      "16857  06/30/2013  \n",
      "14582  06/30/2013  \n",
      "15606  06/30/2013  \n",
      "15615  06/30/2013  \n",
      "14551  06/30/2013  \n",
      "15625  06/30/2013  \n",
      "15642  06/30/2013  \n",
      "15648  06/30/2013  \n",
      "15652  06/30/2013  \n",
      "15396  06/30/2013  \n",
      "14515  06/30/2013  \n",
      "15682  06/30/2013  \n",
      "14436  06/30/2013  \n",
      "15697  06/30/2013  \n",
      "14428  06/30/2013  \n",
      "15703  06/30/2013  \n",
      "15765  06/30/2013  \n",
      "14418  06/30/2013  \n",
      "14393  06/30/2013  \n",
      "15679  06/30/2013  \n",
      "14825  06/30/2013  \n",
      "14618  06/30/2013  \n",
      "15288  06/30/2013  \n",
      "14877  06/30/2013  \n",
      "14896  06/30/2013  \n",
      "14949  06/30/2013  \n",
      "14799  06/30/2013  \n",
      "14989  06/30/2013  \n",
      "14764  06/30/2013  \n",
      "15069  06/30/2013  \n",
      "...           ...  \n",
      "7147   06/30/2013  \n",
      "897    06/30/2013  \n",
      "13326  06/30/2013  \n",
      "7872   06/30/2013  \n",
      "9444   06/30/2013  \n",
      "13723  06/30/2013  \n",
      "1605   06/30/2013  \n",
      "12910  06/30/2013  \n",
      "2758   06/30/2013  \n",
      "7934   06/30/2013  \n",
      "1352   06/30/2013  \n",
      "3042   06/30/2013  \n",
      "1448   06/30/2013  \n",
      "2846   06/30/2013  \n",
      "8249   06/30/2013  \n",
      "3202   06/30/2013  \n",
      "13730  06/30/2013  \n",
      "2440   06/30/2013  \n",
      "11545  06/30/2013  \n",
      "1805   06/30/2013  \n",
      "8818   06/30/2013  \n",
      "572    06/30/2013  \n",
      "136    06/30/2013  \n",
      "1698   06/30/2013  \n",
      "1242   06/30/2013  \n",
      "8126   06/30/2013  \n",
      "6643   06/30/2013  \n",
      "1892   06/30/2013  \n",
      "13615  06/30/2013  \n",
      "13666  06/30/2013  \n",
      "\n",
      "[11578 rows x 12 columns]\n"
     ]
    },
    {
     "data": {
      "text/html": [
       "<div>\n",
       "<table border=\"1\" class=\"dataframe\">\n",
       "  <thead>\n",
       "    <tr style=\"text-align: right;\">\n",
       "      <th></th>\n",
       "      <th>Provider Number</th>\n",
       "      <th>Number of Discharges</th>\n",
       "      <th>Footnote</th>\n",
       "      <th>Excess Readmission Ratio</th>\n",
       "      <th>Predicted Readmission Rate</th>\n",
       "      <th>Expected Readmission Rate</th>\n",
       "      <th>Number of Readmissions</th>\n",
       "    </tr>\n",
       "  </thead>\n",
       "  <tbody>\n",
       "    <tr>\n",
       "      <th>Provider Number</th>\n",
       "      <td>1.000000</td>\n",
       "      <td>-0.009596</td>\n",
       "      <td>NaN</td>\n",
       "      <td>-0.012112</td>\n",
       "      <td>-0.009049</td>\n",
       "      <td>-0.003710</td>\n",
       "      <td>-0.009099</td>\n",
       "    </tr>\n",
       "    <tr>\n",
       "      <th>Number of Discharges</th>\n",
       "      <td>-0.009596</td>\n",
       "      <td>1.000000</td>\n",
       "      <td>NaN</td>\n",
       "      <td>-0.097398</td>\n",
       "      <td>-0.135163</td>\n",
       "      <td>-0.131091</td>\n",
       "      <td>0.791272</td>\n",
       "    </tr>\n",
       "    <tr>\n",
       "      <th>Footnote</th>\n",
       "      <td>NaN</td>\n",
       "      <td>NaN</td>\n",
       "      <td>NaN</td>\n",
       "      <td>NaN</td>\n",
       "      <td>NaN</td>\n",
       "      <td>NaN</td>\n",
       "      <td>NaN</td>\n",
       "    </tr>\n",
       "    <tr>\n",
       "      <th>Excess Readmission Ratio</th>\n",
       "      <td>-0.012112</td>\n",
       "      <td>-0.097398</td>\n",
       "      <td>NaN</td>\n",
       "      <td>1.000000</td>\n",
       "      <td>0.200039</td>\n",
       "      <td>-0.031104</td>\n",
       "      <td>0.117600</td>\n",
       "    </tr>\n",
       "    <tr>\n",
       "      <th>Predicted Readmission Rate</th>\n",
       "      <td>-0.009049</td>\n",
       "      <td>-0.135163</td>\n",
       "      <td>NaN</td>\n",
       "      <td>0.200039</td>\n",
       "      <td>1.000000</td>\n",
       "      <td>0.965420</td>\n",
       "      <td>0.361033</td>\n",
       "    </tr>\n",
       "    <tr>\n",
       "      <th>Expected Readmission Rate</th>\n",
       "      <td>-0.003710</td>\n",
       "      <td>-0.131091</td>\n",
       "      <td>NaN</td>\n",
       "      <td>-0.031104</td>\n",
       "      <td>0.965420</td>\n",
       "      <td>1.000000</td>\n",
       "      <td>0.330527</td>\n",
       "    </tr>\n",
       "    <tr>\n",
       "      <th>Number of Readmissions</th>\n",
       "      <td>-0.009099</td>\n",
       "      <td>0.791272</td>\n",
       "      <td>NaN</td>\n",
       "      <td>0.117600</td>\n",
       "      <td>0.361033</td>\n",
       "      <td>0.330527</td>\n",
       "      <td>1.000000</td>\n",
       "    </tr>\n",
       "  </tbody>\n",
       "</table>\n",
       "</div>"
      ],
      "text/plain": [
       "                            Provider Number  Number of Discharges  Footnote  \\\n",
       "Provider Number                    1.000000             -0.009596       NaN   \n",
       "Number of Discharges              -0.009596              1.000000       NaN   \n",
       "Footnote                                NaN                   NaN       NaN   \n",
       "Excess Readmission Ratio          -0.012112             -0.097398       NaN   \n",
       "Predicted Readmission Rate        -0.009049             -0.135163       NaN   \n",
       "Expected Readmission Rate         -0.003710             -0.131091       NaN   \n",
       "Number of Readmissions            -0.009099              0.791272       NaN   \n",
       "\n",
       "                            Excess Readmission Ratio  \\\n",
       "Provider Number                            -0.012112   \n",
       "Number of Discharges                       -0.097398   \n",
       "Footnote                                         NaN   \n",
       "Excess Readmission Ratio                    1.000000   \n",
       "Predicted Readmission Rate                  0.200039   \n",
       "Expected Readmission Rate                  -0.031104   \n",
       "Number of Readmissions                      0.117600   \n",
       "\n",
       "                            Predicted Readmission Rate  \\\n",
       "Provider Number                              -0.009049   \n",
       "Number of Discharges                         -0.135163   \n",
       "Footnote                                           NaN   \n",
       "Excess Readmission Ratio                      0.200039   \n",
       "Predicted Readmission Rate                    1.000000   \n",
       "Expected Readmission Rate                     0.965420   \n",
       "Number of Readmissions                        0.361033   \n",
       "\n",
       "                            Expected Readmission Rate  Number of Readmissions  \n",
       "Provider Number                             -0.003710               -0.009099  \n",
       "Number of Discharges                        -0.131091                0.791272  \n",
       "Footnote                                          NaN                     NaN  \n",
       "Excess Readmission Ratio                    -0.031104                0.117600  \n",
       "Predicted Readmission Rate                   0.965420                0.361033  \n",
       "Expected Readmission Rate                    1.000000                0.330527  \n",
       "Number of Readmissions                       0.330527                1.000000  "
      ]
     },
     "execution_count": 64,
     "metadata": {},
     "output_type": "execute_result"
    }
   ],
   "source": [
    "# deal with missing and inconvenient portions of data \n",
    "clean_hospital_read_df = hospital_read_df[hospital_read_df['Number of Discharges'] != 'Not Available']\n",
    "clean_hospital_read_df.loc[:, 'Number of Discharges'] = clean_hospital_read_df['Number of Discharges'].astype(int)\n",
    "clean_hospital_read_df = clean_hospital_read_df.sort_values('Number of Discharges')\n",
    "print(clean_hospital_read_df)\n",
    "clean_hospital_read_df.corr()"
   ]
  },
  {
   "cell_type": "code",
   "execution_count": 65,
   "metadata": {
    "collapsed": false,
    "scrolled": true
   },
   "outputs": [
    {
     "data": {
      "image/png": "[encoded data removed]",
      "text/plain": [
       "<matplotlib.figure.Figure at 0x9f96210>"
      ]
     },
     "metadata": {},
     "output_type": "display_data"
    }
   ],
   "source": [
    "# generate a scatterplot for number of discharges vs. excess rate of readmissions\n",
    "# lists work better with matplotlib scatterplot function\n",
    "x = [a for a in clean_hospital_read_df['Number of Discharges'][81:-3]]\n",
    "y = list(clean_hospital_read_df['Excess Readmission Ratio'][81:-3])\n",
    "\n",
    "fig, ax = plt.subplots(figsize=(8,5))\n",
    "ax.scatter(x, y,alpha=0.2)\n",
    "\n",
    "ax.fill_between([0,350], 1.15, 2, facecolor='red', alpha = .15, interpolate=True)\n",
    "ax.fill_between([800,2500], .5, .95, facecolor='green', alpha = .15, interpolate=True)\n",
    "\n",
    "ax.set_xlim([0, max(x)])\n",
    "ax.set_xlabel('Number of discharges', fontsize=12)\n",
    "ax.set_ylabel('Excess rate of readmissions', fontsize=12)\n",
    "ax.set_title('Scatterplot of number of discharges vs. excess rate of readmissions', fontsize=14)\n",
    "\n",
    "ax.grid(True)\n",
    "fig.tight_layout()"
   ]
  },
  {
   "cell_type": "markdown",
   "metadata": {},
   "source": [
    "****\n",
    "\n",
    "## Preliminary Report\n",
    "\n",
    "Read the following results/report. While you are reading it, think about if the conclusions are correct, incorrect, misleading or unfounded. Think about what you would change or what additional analyses you would perform.\n",
    "\n",
    "**A. Initial observations based on the plot above**\n",
    "+ Overall, rate of readmissions is trending down with increasing number of discharges\n",
    "+ With lower number of discharges, there is a greater incidence of excess rate of readmissions (area shaded red)\n",
    "+ With higher number of discharges, there is a greater incidence of lower rates of readmissions (area shaded green) \n",
    "\n",
    "**B. Statistics**\n",
    "+ In hospitals/facilities with number of discharges < 100, mean excess readmission rate is 1.023 and 63% have excess readmission rate greater than 1 \n",
    "+ In hospitals/facilities with number of discharges > 1000, mean excess readmission rate is 0.978 and 44% have excess readmission rate greater than 1 \n",
    "\n",
    "**C. Conclusions**\n",
    "+ There is a significant correlation between hospital capacity (number of discharges) and readmission rates. \n",
    "+ Smaller hospitals/facilities may be lacking necessary resources to ensure quality care and prevent complications that lead to readmissions.\n",
    "\n",
    "**D. Regulatory policy recommendations**\n",
    "+ Hospitals/facilties with small capacity (< 300) should be required to demonstrate upgraded resource allocation for quality care to continue operation.\n",
    "+ Directives and incentives should be provided for consolidation of hospitals and facilities to have a smaller number of them with higher capacity and number of discharges."
   ]
  },
  {
   "cell_type": "markdown",
   "metadata": {},
   "source": [
    "****\n",
    "### Exercise\n",
    "\n",
    "Include your work on the following **in this notebook and submit to your Github account**. \n",
    "\n",
    "A. Do you agree with the above analysis and recommendations? Why or why not?\n",
    "   \n",
    "B. Provide support for your arguments and your own recommendations with a statistically sound analysis:\n",
    "\n",
    "   1. Setup an appropriate hypothesis test.\n",
    "   2. Compute and report the observed significance value (or p-value).\n",
    "   3. Report statistical significance for $\\alpha$ = .01. \n",
    "   4. Discuss statistical significance and practical significance. Do they differ here? How does this change your recommendation to the client?\n",
    "   5. Look at the scatterplot above. \n",
    "      - What are the advantages and disadvantages of using this plot to convey information?\n",
    "      - Construct another plot that conveys the same information in a more direct manner.\n",
    "\n",
    "\n",
    "\n",
    "You can compose in notebook cells using Markdown: \n",
    "+ In the control panel at the top, choose Cell > Cell Type > Markdown\n",
    "+ Markdown syntax: http://nestacms.com/docs/creating-content/markdown-cheat-sheet\n",
    "****"
   ]
  },
  {
   "cell_type": "markdown",
   "metadata": {
    "collapsed": true
   },
   "source": [
    "# A.    Do you agree with the above analysis and recommendations? Why or why not?"
   ]
  },
  {
   "cell_type": "markdown",
   "metadata": {},
   "source": [
    "\n",
    "1.    The Test was not done data cleaning and wrapping. Although, the test select ['Number of Discharges'] != 'Not Available']\n",
    "but there are still null values in dataset.\n",
    "2.    No hypothesis test, statistic test and calculation before conclusion.  "
   ]
  },
  {
   "cell_type": "code",
   "execution_count": 67,
   "metadata": {
    "collapsed": false
   },
   "outputs": [
    {
     "data": {
      "text/html": [
       "<div>\n",
       "<table border=\"1\" class=\"dataframe\">\n",
       "  <thead>\n",
       "    <tr style=\"text-align: right;\">\n",
       "      <th></th>\n",
       "      <th>Provider Number</th>\n",
       "      <th>Footnote</th>\n",
       "      <th>Excess Readmission Ratio</th>\n",
       "      <th>Predicted Readmission Rate</th>\n",
       "      <th>Expected Readmission Rate</th>\n",
       "      <th>Number of Readmissions</th>\n",
       "    </tr>\n",
       "  </thead>\n",
       "  <tbody>\n",
       "    <tr>\n",
       "      <th>count</th>\n",
       "      <td>16860.000000</td>\n",
       "      <td>3129.000000</td>\n",
       "      <td>13731.000000</td>\n",
       "      <td>13731.000000</td>\n",
       "      <td>13731.000000</td>\n",
       "      <td>11497.000000</td>\n",
       "    </tr>\n",
       "    <tr>\n",
       "      <th>mean</th>\n",
       "      <td>263516.943654</td>\n",
       "      <td>2.905401</td>\n",
       "      <td>1.002582</td>\n",
       "      <td>16.916532</td>\n",
       "      <td>16.866135</td>\n",
       "      <td>63.633731</td>\n",
       "    </tr>\n",
       "    <tr>\n",
       "      <th>std</th>\n",
       "      <td>160146.191702</td>\n",
       "      <td>2.074384</td>\n",
       "      <td>0.091088</td>\n",
       "      <td>6.197542</td>\n",
       "      <td>5.989652</td>\n",
       "      <td>59.540296</td>\n",
       "    </tr>\n",
       "    <tr>\n",
       "      <th>min</th>\n",
       "      <td>10001.000000</td>\n",
       "      <td>1.000000</td>\n",
       "      <td>0.549500</td>\n",
       "      <td>2.700000</td>\n",
       "      <td>2.900000</td>\n",
       "      <td>11.000000</td>\n",
       "    </tr>\n",
       "    <tr>\n",
       "      <th>25%</th>\n",
       "      <td>110181.500000</td>\n",
       "      <td>1.000000</td>\n",
       "      <td>0.949500</td>\n",
       "      <td>15.200000</td>\n",
       "      <td>15.800000</td>\n",
       "      <td>24.000000</td>\n",
       "    </tr>\n",
       "    <tr>\n",
       "      <th>50%</th>\n",
       "      <td>250157.000000</td>\n",
       "      <td>1.000000</td>\n",
       "      <td>0.997100</td>\n",
       "      <td>18.500000</td>\n",
       "      <td>18.500000</td>\n",
       "      <td>45.000000</td>\n",
       "    </tr>\n",
       "    <tr>\n",
       "      <th>75%</th>\n",
       "      <td>390138.250000</td>\n",
       "      <td>5.000000</td>\n",
       "      <td>1.052350</td>\n",
       "      <td>21.100000</td>\n",
       "      <td>21.100000</td>\n",
       "      <td>82.000000</td>\n",
       "    </tr>\n",
       "    <tr>\n",
       "      <th>max</th>\n",
       "      <td>670091.000000</td>\n",
       "      <td>7.000000</td>\n",
       "      <td>1.909500</td>\n",
       "      <td>32.800000</td>\n",
       "      <td>29.400000</td>\n",
       "      <td>879.000000</td>\n",
       "    </tr>\n",
       "  </tbody>\n",
       "</table>\n",
       "</div>"
      ],
      "text/plain": [
       "       Provider Number     Footnote  Excess Readmission Ratio  \\\n",
       "count     16860.000000  3129.000000              13731.000000   \n",
       "mean     263516.943654     2.905401                  1.002582   \n",
       "std      160146.191702     2.074384                  0.091088   \n",
       "min       10001.000000     1.000000                  0.549500   \n",
       "25%      110181.500000     1.000000                  0.949500   \n",
       "50%      250157.000000     1.000000                  0.997100   \n",
       "75%      390138.250000     5.000000                  1.052350   \n",
       "max      670091.000000     7.000000                  1.909500   \n",
       "\n",
       "       Predicted Readmission Rate  Expected Readmission Rate  \\\n",
       "count                13731.000000               13731.000000   \n",
       "mean                    16.916532                  16.866135   \n",
       "std                      6.197542                   5.989652   \n",
       "min                      2.700000                   2.900000   \n",
       "25%                     15.200000                  15.800000   \n",
       "50%                     18.500000                  18.500000   \n",
       "75%                     21.100000                  21.100000   \n",
       "max                     32.800000                  29.400000   \n",
       "\n",
       "       Number of Readmissions  \n",
       "count            11497.000000  \n",
       "mean                63.633731  \n",
       "std                 59.540296  \n",
       "min                 11.000000  \n",
       "25%                 24.000000  \n",
       "50%                 45.000000  \n",
       "75%                 82.000000  \n",
       "max                879.000000  "
      ]
     },
     "execution_count": 67,
     "metadata": {},
     "output_type": "execute_result"
    }
   ],
   "source": [
    "hospital_read_df.describe()"
   ]
  },
  {
   "cell_type": "code",
   "execution_count": 68,
   "metadata": {
    "collapsed": false
   },
   "outputs": [
    {
     "data": {
      "text/plain": [
       "Hospital Name                     0\n",
       "Provider Number                   0\n",
       "State                             0\n",
       "Measure Name                      0\n",
       "Number of Discharges              0\n",
       "Footnote                      13731\n",
       "Excess Readmission Ratio       3129\n",
       "Predicted Readmission Rate     3129\n",
       "Expected Readmission Rate      3129\n",
       "Number of Readmissions         5363\n",
       "Start Date                        0\n",
       "End Date                          0\n",
       "dtype: int64"
      ]
     },
     "execution_count": 68,
     "metadata": {},
     "output_type": "execute_result"
    }
   ],
   "source": [
    "hospital_read_df.isnull().sum()"
   ]
  },
  {
   "cell_type": "code",
   "execution_count": 69,
   "metadata": {
    "collapsed": false
   },
   "outputs": [
    {
     "name": "stdout",
     "output_type": "stream",
     "text": [
      "<class 'pandas.core.frame.DataFrame'>\n",
      "Int64Index: 16860 entries, 0 to 16859\n",
      "Data columns (total 12 columns):\n",
      "Hospital Name                 16860 non-null object\n",
      "Provider Number               16860 non-null int64\n",
      "State                         16860 non-null object\n",
      "Measure Name                  16860 non-null object\n",
      "Number of Discharges          16860 non-null object\n",
      "Footnote                      3129 non-null float64\n",
      "Excess Readmission Ratio      13731 non-null float64\n",
      "Predicted Readmission Rate    13731 non-null float64\n",
      "Expected Readmission Rate     13731 non-null float64\n",
      "Number of Readmissions        11497 non-null float64\n",
      "Start Date                    16860 non-null object\n",
      "End Date                      16860 non-null object\n",
      "dtypes: float64(5), int64(1), object(6)\n",
      "memory usage: 1.3+ MB\n"
     ]
    }
   ],
   "source": [
    "hospital_read_df.info()"
   ]
  },
  {
   "cell_type": "markdown",
   "metadata": {},
   "source": [
    "there are null value in this data frame "
   ]
  },
  {
   "cell_type": "code",
   "execution_count": 70,
   "metadata": {
    "collapsed": true
   },
   "outputs": [],
   "source": [
    "my_hospital_read_df = hospital_read_df[hospital_read_df['Number of Discharges'] != 'Not Available']"
   ]
  },
  {
   "cell_type": "code",
   "execution_count": 71,
   "metadata": {
    "collapsed": false
   },
   "outputs": [
    {
     "name": "stdout",
     "output_type": "stream",
     "text": [
      "<class 'pandas.core.frame.DataFrame'>\n",
      "Int64Index: 11578 entries, 0 to 16857\n",
      "Data columns (total 12 columns):\n",
      "Hospital Name                 11578 non-null object\n",
      "Provider Number               11578 non-null int64\n",
      "State                         11578 non-null object\n",
      "Measure Name                  11578 non-null object\n",
      "Number of Discharges          11578 non-null object\n",
      "Footnote                      81 non-null float64\n",
      "Excess Readmission Ratio      11497 non-null float64\n",
      "Predicted Readmission Rate    11497 non-null float64\n",
      "Expected Readmission Rate     11497 non-null float64\n",
      "Number of Readmissions        11497 non-null float64\n",
      "Start Date                    11578 non-null object\n",
      "End Date                      11578 non-null object\n",
      "dtypes: float64(5), int64(1), object(6)\n",
      "memory usage: 904.5+ KB\n"
     ]
    }
   ],
   "source": [
    "my_hospital_read_df.info()"
   ]
  },
  {
   "cell_type": "markdown",
   "metadata": {},
   "source": [
    "# 1 Setup an appropriate hypothesis test."
   ]
  },
  {
   "cell_type": "markdown",
   "metadata": {},
   "source": [
    "\n",
    "H0: there is no significant connection between Number of Discharges and Excess Readmission Ratio\n",
    "\n",
    "H1: there is significant connection between Number of Discharges and Excess Readmission Ratio"
   ]
  },
  {
   "cell_type": "code",
   "execution_count": 72,
   "metadata": {
    "collapsed": false
   },
   "outputs": [],
   "source": [
    "hypo=my_hospital_read_df[my_hospital_read_df['Number of Readmissions'].notnull()]"
   ]
  },
  {
   "cell_type": "code",
   "execution_count": 73,
   "metadata": {
    "collapsed": false
   },
   "outputs": [
    {
     "data": {
      "text/plain": [
       "Hospital Name                     0\n",
       "Provider Number                   0\n",
       "State                             0\n",
       "Measure Name                      0\n",
       "Number of Discharges              0\n",
       "Footnote                      11497\n",
       "Excess Readmission Ratio          0\n",
       "Predicted Readmission Rate        0\n",
       "Expected Readmission Rate         0\n",
       "Number of Readmissions            0\n",
       "Start Date                        0\n",
       "End Date                          0\n",
       "dtype: int64"
      ]
     },
     "execution_count": 73,
     "metadata": {},
     "output_type": "execute_result"
    }
   ],
   "source": [
    "hypo.isnull().sum()"
   ]
  },
  {
   "cell_type": "code",
   "execution_count": 74,
   "metadata": {
    "collapsed": false
   },
   "outputs": [
    {
     "data": {
      "text/html": [
       "<div>\n",
       "<table border=\"1\" class=\"dataframe\">\n",
       "  <thead>\n",
       "    <tr style=\"text-align: right;\">\n",
       "      <th></th>\n",
       "      <th>Provider Number</th>\n",
       "      <th>Footnote</th>\n",
       "      <th>Excess Readmission Ratio</th>\n",
       "      <th>Predicted Readmission Rate</th>\n",
       "      <th>Expected Readmission Rate</th>\n",
       "      <th>Number of Readmissions</th>\n",
       "    </tr>\n",
       "  </thead>\n",
       "  <tbody>\n",
       "    <tr>\n",
       "      <th>Provider Number</th>\n",
       "      <td>1.000000</td>\n",
       "      <td>NaN</td>\n",
       "      <td>-0.012112</td>\n",
       "      <td>-0.009049</td>\n",
       "      <td>-0.003710</td>\n",
       "      <td>-0.009099</td>\n",
       "    </tr>\n",
       "    <tr>\n",
       "      <th>Footnote</th>\n",
       "      <td>NaN</td>\n",
       "      <td>NaN</td>\n",
       "      <td>NaN</td>\n",
       "      <td>NaN</td>\n",
       "      <td>NaN</td>\n",
       "      <td>NaN</td>\n",
       "    </tr>\n",
       "    <tr>\n",
       "      <th>Excess Readmission Ratio</th>\n",
       "      <td>-0.012112</td>\n",
       "      <td>NaN</td>\n",
       "      <td>1.000000</td>\n",
       "      <td>0.200039</td>\n",
       "      <td>-0.031104</td>\n",
       "      <td>0.117600</td>\n",
       "    </tr>\n",
       "    <tr>\n",
       "      <th>Predicted Readmission Rate</th>\n",
       "      <td>-0.009049</td>\n",
       "      <td>NaN</td>\n",
       "      <td>0.200039</td>\n",
       "      <td>1.000000</td>\n",
       "      <td>0.965420</td>\n",
       "      <td>0.361033</td>\n",
       "    </tr>\n",
       "    <tr>\n",
       "      <th>Expected Readmission Rate</th>\n",
       "      <td>-0.003710</td>\n",
       "      <td>NaN</td>\n",
       "      <td>-0.031104</td>\n",
       "      <td>0.965420</td>\n",
       "      <td>1.000000</td>\n",
       "      <td>0.330527</td>\n",
       "    </tr>\n",
       "    <tr>\n",
       "      <th>Number of Readmissions</th>\n",
       "      <td>-0.009099</td>\n",
       "      <td>NaN</td>\n",
       "      <td>0.117600</td>\n",
       "      <td>0.361033</td>\n",
       "      <td>0.330527</td>\n",
       "      <td>1.000000</td>\n",
       "    </tr>\n",
       "  </tbody>\n",
       "</table>\n",
       "</div>"
      ],
      "text/plain": [
       "                            Provider Number  Footnote  \\\n",
       "Provider Number                    1.000000       NaN   \n",
       "Footnote                                NaN       NaN   \n",
       "Excess Readmission Ratio          -0.012112       NaN   \n",
       "Predicted Readmission Rate        -0.009049       NaN   \n",
       "Expected Readmission Rate         -0.003710       NaN   \n",
       "Number of Readmissions            -0.009099       NaN   \n",
       "\n",
       "                            Excess Readmission Ratio  \\\n",
       "Provider Number                            -0.012112   \n",
       "Footnote                                         NaN   \n",
       "Excess Readmission Ratio                    1.000000   \n",
       "Predicted Readmission Rate                  0.200039   \n",
       "Expected Readmission Rate                  -0.031104   \n",
       "Number of Readmissions                      0.117600   \n",
       "\n",
       "                            Predicted Readmission Rate  \\\n",
       "Provider Number                              -0.009049   \n",
       "Footnote                                           NaN   \n",
       "Excess Readmission Ratio                      0.200039   \n",
       "Predicted Readmission Rate                    1.000000   \n",
       "Expected Readmission Rate                     0.965420   \n",
       "Number of Readmissions                        0.361033   \n",
       "\n",
       "                            Expected Readmission Rate  Number of Readmissions  \n",
       "Provider Number                             -0.003710               -0.009099  \n",
       "Footnote                                          NaN                     NaN  \n",
       "Excess Readmission Ratio                    -0.031104                0.117600  \n",
       "Predicted Readmission Rate                   0.965420                0.361033  \n",
       "Expected Readmission Rate                    1.000000                0.330527  \n",
       "Number of Readmissions                       0.330527                1.000000  "
      ]
     },
     "execution_count": 74,
     "metadata": {},
     "output_type": "execute_result"
    }
   ],
   "source": [
    "hypo.corr()"
   ]
  },
  {
   "cell_type": "markdown",
   "metadata": {},
   "source": [
    "due to the Number of Discharges is str , so we have to transfer it to number   "
   ]
  },
  {
   "cell_type": "code",
   "execution_count": 75,
   "metadata": {
    "collapsed": true
   },
   "outputs": [],
   "source": [
    "hypo.loc[:, 'Number of Discharges'] = hypo['Number of Discharges'].astype(int)"
   ]
  },
  {
   "cell_type": "code",
   "execution_count": 76,
   "metadata": {
    "collapsed": false
   },
   "outputs": [
    {
     "data": {
      "text/html": [
       "<div>\n",
       "<table border=\"1\" class=\"dataframe\">\n",
       "  <thead>\n",
       "    <tr style=\"text-align: right;\">\n",
       "      <th></th>\n",
       "      <th>Provider Number</th>\n",
       "      <th>Number of Discharges</th>\n",
       "      <th>Footnote</th>\n",
       "      <th>Excess Readmission Ratio</th>\n",
       "      <th>Predicted Readmission Rate</th>\n",
       "      <th>Expected Readmission Rate</th>\n",
       "      <th>Number of Readmissions</th>\n",
       "    </tr>\n",
       "  </thead>\n",
       "  <tbody>\n",
       "    <tr>\n",
       "      <th>Provider Number</th>\n",
       "      <td>1.000000</td>\n",
       "      <td>-0.008849</td>\n",
       "      <td>NaN</td>\n",
       "      <td>-0.012112</td>\n",
       "      <td>-0.009049</td>\n",
       "      <td>-0.003710</td>\n",
       "      <td>-0.009099</td>\n",
       "    </tr>\n",
       "    <tr>\n",
       "      <th>Number of Discharges</th>\n",
       "      <td>-0.008849</td>\n",
       "      <td>1.000000</td>\n",
       "      <td>NaN</td>\n",
       "      <td>-0.097398</td>\n",
       "      <td>-0.135163</td>\n",
       "      <td>-0.131091</td>\n",
       "      <td>0.791272</td>\n",
       "    </tr>\n",
       "    <tr>\n",
       "      <th>Footnote</th>\n",
       "      <td>NaN</td>\n",
       "      <td>NaN</td>\n",
       "      <td>NaN</td>\n",
       "      <td>NaN</td>\n",
       "      <td>NaN</td>\n",
       "      <td>NaN</td>\n",
       "      <td>NaN</td>\n",
       "    </tr>\n",
       "    <tr>\n",
       "      <th>Excess Readmission Ratio</th>\n",
       "      <td>-0.012112</td>\n",
       "      <td>-0.097398</td>\n",
       "      <td>NaN</td>\n",
       "      <td>1.000000</td>\n",
       "      <td>0.200039</td>\n",
       "      <td>-0.031104</td>\n",
       "      <td>0.117600</td>\n",
       "    </tr>\n",
       "    <tr>\n",
       "      <th>Predicted Readmission Rate</th>\n",
       "      <td>-0.009049</td>\n",
       "      <td>-0.135163</td>\n",
       "      <td>NaN</td>\n",
       "      <td>0.200039</td>\n",
       "      <td>1.000000</td>\n",
       "      <td>0.965420</td>\n",
       "      <td>0.361033</td>\n",
       "    </tr>\n",
       "    <tr>\n",
       "      <th>Expected Readmission Rate</th>\n",
       "      <td>-0.003710</td>\n",
       "      <td>-0.131091</td>\n",
       "      <td>NaN</td>\n",
       "      <td>-0.031104</td>\n",
       "      <td>0.965420</td>\n",
       "      <td>1.000000</td>\n",
       "      <td>0.330527</td>\n",
       "    </tr>\n",
       "    <tr>\n",
       "      <th>Number of Readmissions</th>\n",
       "      <td>-0.009099</td>\n",
       "      <td>0.791272</td>\n",
       "      <td>NaN</td>\n",
       "      <td>0.117600</td>\n",
       "      <td>0.361033</td>\n",
       "      <td>0.330527</td>\n",
       "      <td>1.000000</td>\n",
       "    </tr>\n",
       "  </tbody>\n",
       "</table>\n",
       "</div>"
      ],
      "text/plain": [
       "                            Provider Number  Number of Discharges  Footnote  \\\n",
       "Provider Number                    1.000000             -0.008849       NaN   \n",
       "Number of Discharges              -0.008849              1.000000       NaN   \n",
       "Footnote                                NaN                   NaN       NaN   \n",
       "Excess Readmission Ratio          -0.012112             -0.097398       NaN   \n",
       "Predicted Readmission Rate        -0.009049             -0.135163       NaN   \n",
       "Expected Readmission Rate         -0.003710             -0.131091       NaN   \n",
       "Number of Readmissions            -0.009099              0.791272       NaN   \n",
       "\n",
       "                            Excess Readmission Ratio  \\\n",
       "Provider Number                            -0.012112   \n",
       "Number of Discharges                       -0.097398   \n",
       "Footnote                                         NaN   \n",
       "Excess Readmission Ratio                    1.000000   \n",
       "Predicted Readmission Rate                  0.200039   \n",
       "Expected Readmission Rate                  -0.031104   \n",
       "Number of Readmissions                      0.117600   \n",
       "\n",
       "                            Predicted Readmission Rate  \\\n",
       "Provider Number                              -0.009049   \n",
       "Number of Discharges                         -0.135163   \n",
       "Footnote                                           NaN   \n",
       "Excess Readmission Ratio                      0.200039   \n",
       "Predicted Readmission Rate                    1.000000   \n",
       "Expected Readmission Rate                     0.965420   \n",
       "Number of Readmissions                        0.361033   \n",
       "\n",
       "                            Expected Readmission Rate  Number of Readmissions  \n",
       "Provider Number                             -0.003710               -0.009099  \n",
       "Number of Discharges                        -0.131091                0.791272  \n",
       "Footnote                                          NaN                     NaN  \n",
       "Excess Readmission Ratio                    -0.031104                0.117600  \n",
       "Predicted Readmission Rate                   0.965420                0.361033  \n",
       "Expected Readmission Rate                    1.000000                0.330527  \n",
       "Number of Readmissions                       0.330527                1.000000  "
      ]
     },
     "execution_count": 76,
     "metadata": {},
     "output_type": "execute_result"
    }
   ],
   "source": [
    "hypo.corr()"
   ]
  },
  {
   "cell_type": "markdown",
   "metadata": {},
   "source": [
    "the correlation between Number of Discharges and Excess Readmission Ratio is -0.097398"
   ]
  },
  {
   "cell_type": "code",
   "execution_count": 77,
   "metadata": {
    "collapsed": true
   },
   "outputs": [],
   "source": [
    "r= -0.097398"
   ]
  },
  {
   "cell_type": "code",
   "execution_count": 78,
   "metadata": {
    "collapsed": true
   },
   "outputs": [],
   "source": [
    "r_square=r**2"
   ]
  },
  {
   "cell_type": "code",
   "execution_count": 79,
   "metadata": {
    "collapsed": false
   },
   "outputs": [
    {
     "data": {
      "text/plain": [
       "0.009486370404"
      ]
     },
     "execution_count": 79,
     "metadata": {},
     "output_type": "execute_result"
    }
   ],
   "source": [
    "r_square"
   ]
  },
  {
   "cell_type": "code",
   "execution_count": 80,
   "metadata": {
    "collapsed": true
   },
   "outputs": [],
   "source": [
    "#Total number of hospitals\n",
    "total_hops=len(hypo['Hospital Name'])"
   ]
  },
  {
   "cell_type": "code",
   "execution_count": 81,
   "metadata": {
    "collapsed": false
   },
   "outputs": [
    {
     "data": {
      "text/plain": [
       "11497"
      ]
     },
     "execution_count": 81,
     "metadata": {},
     "output_type": "execute_result"
    }
   ],
   "source": [
    "total_hops"
   ]
  },
  {
   "cell_type": "markdown",
   "metadata": {},
   "source": [
    "# 2.Compute and report the observed significance value (or p-value)."
   ]
  },
  {
   "cell_type": "markdown",
   "metadata": {},
   "source": [
    "with 95% level of confidence, the value of alpha is 1 - 0.95 = 0.05:"
   ]
  },
  {
   "cell_type": "code",
   "execution_count": 82,
   "metadata": {
    "collapsed": false
   },
   "outputs": [
    {
     "data": {
      "text/plain": [
       "-10.492386957113085"
      ]
     },
     "execution_count": 82,
     "metadata": {},
     "output_type": "execute_result"
    }
   ],
   "source": [
    "#pearson t-statitic \n",
    "t_value=(r*((total_hops-2)/(1-r_square))**0.5)\n",
    "t_value"
   ]
  },
  {
   "cell_type": "code",
   "execution_count": 83,
   "metadata": {
    "collapsed": false
   },
   "outputs": [
    {
     "data": {
      "text/plain": [
       "1.2224686234119185e-25"
      ]
     },
     "execution_count": 83,
     "metadata": {},
     "output_type": "execute_result"
    }
   ],
   "source": [
    "#degrees of freedom\n",
    "dof=total_hops-2\n",
    "import scipy.stats as stats\n",
    "p_value1 = stats.t.sf(np.abs(t_value), dof)*2  # two-sided pvalue = Prob(abs(t)>tt)\n",
    "p_value1"
   ]
  },
  {
   "cell_type": "markdown",
   "metadata": {},
   "source": [
    "P<0.05\n",
    "\n",
    "=> the null hypothesis is rejected. There is significant connection between Number of Discharges and Excess Readmission Ratio\n"
   ]
  },
  {
   "cell_type": "markdown",
   "metadata": {},
   "source": [
    "# 4.Report statistical significance for α=0.01. "
   ]
  },
  {
   "cell_type": "markdown",
   "metadata": {},
   "source": [
    "it will be the same because i didnot use alpha in any equations to calculate p value"
   ]
  },
  {
   "cell_type": "markdown",
   "metadata": {},
   "source": [
    "# 5.Discuss statistical significance and practical significance. Do they differ here? How does this change your recommendation to the client?"
   ]
  },
  {
   "cell_type": "markdown",
   "metadata": {},
   "source": [
    "Statistical significance that means differences observed in the sample have occurred due to sampling error. Practical significance looks at whether the difference is large enough to be of value in a practice statistical significance and practical significance. al sense.\n",
    "For this problem, statistical significance and practical significance are significantly difference. Statistical significance, the correlation coefficient for number of discharges and excess readmission rate is -0.097398, which shows that number of discharges and excess readmission rate has no correlation, but r_squared (Pearson correlation coefficient squared) which is less than 1 % of variability in the excess readmission ratio, the  number of discharges can make a little change in the excess readmission ratio.\n",
    "    "
   ]
  },
  {
   "cell_type": "markdown",
   "metadata": {},
   "source": [
    "# 6. Look at the scatterplot above. \n",
    "What are the advantages and disadvantages of using this plot to convey information?\n",
    "Construct another plot that conveys the same information in a more direct manner."
   ]
  },
  {
   "cell_type": "markdown",
   "metadata": {},
   "source": [
    "·  What are the advantages and disadvantages of using this plot to convey information?\n",
    "Advantages:\n",
    "   show large quantities of data and correlation between variables and clustering effects.\n",
    "Disadvantages:\n",
    "    The method is not applicable to show the relation of  more than two variable\n",
    "    Number of observations is limited\n",
    " \n",
    " \n",
    " \n",
    "·   Construct another plot that conveys the same information in a more direct manner.\n",
    "Create two groups: rate of excess readmission rate > 1 and rate of excess readmission rate < =1.\n",
    "Trend line: showing the direction that number of discharges to be heading in Excess Readmission Ratio."
   ]
  },
  {
   "cell_type": "code",
   "execution_count": 84,
   "metadata": {
    "collapsed": false
   },
   "outputs": [
    {
     "data": {
      "text/plain": [
       "(5558, 12)"
      ]
     },
     "execution_count": 84,
     "metadata": {},
     "output_type": "execute_result"
    }
   ],
   "source": [
    "set1=hypo[hypo['Excess Readmission Ratio']<=1]\n",
    "set1.shape"
   ]
  },
  {
   "cell_type": "code",
   "execution_count": 85,
   "metadata": {
    "collapsed": false
   },
   "outputs": [
    {
     "data": {
      "text/plain": [
       "(5939, 12)"
      ]
     },
     "execution_count": 85,
     "metadata": {},
     "output_type": "execute_result"
    }
   ],
   "source": [
    "set2=hypo[hypo['Excess Readmission Ratio']>1]\n",
    "set2.shape"
   ]
  },
  {
   "cell_type": "code",
   "execution_count": 94,
   "metadata": {
    "collapsed": false
   },
   "outputs": [
    {
     "name": "stdout",
     "output_type": "stream",
     "text": [
      "y=-0.000029x+(1.018106)\n"
     ]
    },
    {
     "data": {
      "text/plain": [
       "<matplotlib.legend.Legend at 0xc126a90>"
      ]
     },
     "execution_count": 94,
     "metadata": {},
     "output_type": "execute_result"
    },
    {
     "data": {
      "image/png": "[encoded data removed]",
      "text/plain": [
       "<matplotlib.figure.Figure at 0x9fc2370>"
      ]
     },
     "metadata": {},
     "output_type": "display_data"
    }
   ],
   "source": [
    "import seaborn as sns\n",
    "plt.scatter(set1['Number of Discharges'], set1['Excess Readmission Ratio'], c='blue', label=\"Excess Readmission Ratio<=1\", alpha=0.1)\n",
    "plt.scatter(set2['Number of Discharges'], set2['Excess Readmission Ratio'], c='gold', label='Excess Readmission Ratio>1', alpha=0.1)\n",
    "# calc the trendline\n",
    "z = np.polyfit(hypo['Number of Discharges'],hypo['Excess Readmission Ratio'], 1)\n",
    "p = np.poly1d(z)\n",
    "plt.plot(x,p(x),color='red')\n",
    "# the line equation:\n",
    "print \"y=%.6fx+(%.6f)\"%(z[0],z[1])\n",
    "\n",
    "plt.xlabel('Number of Discharges')\n",
    "plt.ylabel('Excess Readmission Ratio')\n",
    "plt.title('Number of Discharges vs Excess Readmissions Ratio')\n",
    "plt.legend()"
   ]
  },
  {
   "cell_type": "code",
   "execution_count": null,
   "metadata": {
    "collapsed": true
   },
   "outputs": [],
   "source": []
  },
  {
   "cell_type": "code",
   "execution_count": null,
   "metadata": {
    "collapsed": true
   },
   "outputs": [],
   "source": []
  }
 ],
 "metadata": {
  "anaconda-cloud": {},
  "kernelspec": {
   "display_name": "Python 2",
   "language": "python",
   "name": "python2"
  },
  "language_info": {
   "codemirror_mode": {
    "name": "ipython",
    "version": 2
   },
   "file_extension": ".py",
   "mimetype": "text/x-python",
   "name": "python",
   "nbconvert_exporter": "python",
   "pygments_lexer": "ipython2",
   "version": "2.7.11"
  }
 },
 "nbformat": 4,
 "nbformat_minor": 0
}
